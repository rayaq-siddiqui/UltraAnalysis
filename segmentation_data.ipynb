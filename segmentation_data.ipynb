{
 "cells": [
  {
   "cell_type": "markdown",
   "metadata": {},
   "source": [
    "# Imports"
   ]
  },
  {
   "cell_type": "code",
   "execution_count": 41,
   "metadata": {},
   "outputs": [],
   "source": [
    "import pandas as pd\n",
    "import numpy as np\n",
    "import tensorflow as tf\n",
    "from PIL import Image\n",
    "import os\n",
    "import shutil\n",
    "import matplotlib.pyplot as plt"
   ]
  },
  {
   "cell_type": "markdown",
   "metadata": {},
   "source": [
    "# Understanding Benign Data"
   ]
  },
  {
   "cell_type": "code",
   "execution_count": 42,
   "metadata": {},
   "outputs": [],
   "source": [
    "BATCH_SIZE=16"
   ]
  },
  {
   "cell_type": "code",
   "execution_count": 43,
   "metadata": {},
   "outputs": [
    {
     "data": {
      "text/plain": [
       "(471, 562, 3)"
      ]
     },
     "execution_count": 43,
     "metadata": {},
     "output_type": "execute_result"
    }
   ],
   "source": [
    "im = Image.open('data/benign/img/1.png')\n",
    "# im.show()\n",
    "image_size = np.array(im).shape\n",
    "image_size"
   ]
  },
  {
   "cell_type": "code",
   "execution_count": 44,
   "metadata": {},
   "outputs": [
    {
     "data": {
      "text/plain": [
       "(448, 448)"
      ]
     },
     "execution_count": 44,
     "metadata": {},
     "output_type": "execute_result"
    }
   ],
   "source": [
    "# im.show()\n",
    "im2 = im.crop((57,0,505,448))\n",
    "# im2.show()\n",
    "im2=np.array(im2)/255.\n",
    "im2.shape\n",
    "# im2[0] = [np.mean(im2[0])]\n",
    "im2[:,:,0].shape"
   ]
  },
  {
   "cell_type": "code",
   "execution_count": 45,
   "metadata": {},
   "outputs": [],
   "source": [
    "# os.mkdir('delete/')\n",
    "# shutil.move('garbage.txt', 'delete/garbage.txt')"
   ]
  },
  {
   "cell_type": "code",
   "execution_count": 46,
   "metadata": {},
   "outputs": [],
   "source": [
    "data_path_img = 'data/normal/'\n",
    "\n",
    "def refactor_path(data_path):\n",
    "    if not os.path.exists(data_path+'img/'):\n",
    "        os.mkdir(data_path+'img/')\n",
    "    if not os.path.exists(data_path+'mask/'):\n",
    "        os.mkdir(data_path+'mask/')\n",
    "\n",
    "    for file in os.listdir(data_path):\n",
    "        if file[-3:] == 'png':\n",
    "            if file[-8:-4] == 'mask':\n",
    "                num = file.split('(')\n",
    "                num = int(num[1].split(')')[0])\n",
    "                shutil.move(f'{data_path}{file}', f'{data_path}mask/{num}.png')\n",
    "            else:\n",
    "                num = file.split('(')\n",
    "                num = int(num[1].split(')')[0])\n",
    "                shutil.move(f'{data_path}{file}', f'{data_path}img/{num}.png')\n",
    "\n",
    "# refactor_path(data_path_img)\n"
   ]
  },
  {
   "cell_type": "code",
   "execution_count": 47,
   "metadata": {},
   "outputs": [],
   "source": [
    "data_path_img = 'data/benign/img/'\n",
    "data_path_mask = 'data/benign/mask/'\n",
    "\n",
    "\n",
    "for file in os.listdir(data_path_img):\n",
    "    im = Image.open(data_path_img+file)\n",
    "    im = np.array(im)\n",
    "    # print(f\"file: {len(im.shape)}\")\n",
    "    if len(im.shape) == 3 and im.shape[2]==4:\n",
    "        print(f\"delete: {file}\")\n",
    "        os.remove(data_path_img+file)\n",
    "        os.remove(data_path_mask+file)\n",
    "\n",
    "\n",
    "# files = [\"163.png\",\n",
    "# \"173.png\",\n",
    "# \"98.png\",\n",
    "# \"100.png\",\n",
    "# \"315.png\",\n",
    "# \"181.png\",\n",
    "# \"83.png\",\n",
    "# \"93.png\"]\n",
    "# for file in files:\n",
    "#     print(f\"delete: {data_path_mask+file}\")\n",
    "#     os.remove(data_path_mask+file)\n"
   ]
  },
  {
   "cell_type": "code",
   "execution_count": 48,
   "metadata": {},
   "outputs": [],
   "source": [
    "data_path_img = 'data/benign/img/'"
   ]
  },
  {
   "cell_type": "code",
   "execution_count": 49,
   "metadata": {},
   "outputs": [],
   "source": [
    "class CustomDataGenerator(tf.keras.utils.Sequence):\n",
    "\n",
    "    def __init__(self, df, X_col, y_col, batch_size=32, shuffle=False):\n",
    "        self.df = df.copy()\n",
    "        self.X_col = X_col\n",
    "        self.y_col = y_col\n",
    "        self.batch_size = batch_size\n",
    "        self.shuffle = shuffle\n",
    "\n",
    "        self.n = len(self.df)\n",
    "\n",
    "\n",
    "    def on_epoch_end(self):\n",
    "        if self.shuffle:\n",
    "            self.df = self.df.sample(frac=1).reset_index(drop=True)\n",
    "    \n",
    "\n",
    "    def __get_input(self, paths):\n",
    "        out = []\n",
    "\n",
    "        for path in paths:\n",
    "            inc_next = False\n",
    "            im = Image.open(path)\n",
    "            im = im.crop((57,0,505,448))\n",
    "            im = np.array(im)/255.\n",
    "\n",
    "            out.append(im)\n",
    "\n",
    "        return out\n",
    "\n",
    "\n",
    "    def __get_output(self, labels):\n",
    "        out = []\n",
    "\n",
    "        for label in labels:\n",
    "            im = Image.open(label)\n",
    "            im = im.crop((57,0,505,448))\n",
    "            im = np.array(im)/1.\n",
    "            im = im.reshape((448,448,1))\n",
    "            # im = np.broadcast_to(im,(448,448,3))\n",
    "            \n",
    "            # print('out', im.shape)\n",
    "            # im = im[:,:,0]\n",
    "            \n",
    "            out.append(im)\n",
    "\n",
    "        return out\n",
    "\n",
    "\n",
    "    def __get_data(self, batches):\n",
    "        paths = batches[self.X_col]\n",
    "        X = self.__get_input(paths)\n",
    "        labels = batches[self.y_col]\n",
    "        y = self.__get_output(labels)\n",
    "        X = np.array(X, dtype=object)\n",
    "        y = np.array(y, dtype=object)\n",
    "        X = tf.convert_to_tensor(X, dtype=tf.float32)\n",
    "        y = tf.convert_to_tensor(y, dtype=tf.float32)\n",
    "        return X,y\n",
    "\n",
    "\n",
    "    def __getitem__(self, index):\n",
    "        batches = self.df.iloc[index*self.batch_size:(index+1)*self.batch_size]\n",
    "        X,y = self.__get_data(batches)\n",
    "        return X,y\n",
    "\n",
    "\n",
    "    def __len__(self):\n",
    "        return self.n // self.batch_size\n"
   ]
  },
  {
   "cell_type": "code",
   "execution_count": 50,
   "metadata": {},
   "outputs": [],
   "source": [
    "img_path = 'data/benign/img/'\n",
    "img_files = os.listdir(img_path)\n",
    "img_files = [img_path+i for i in img_files]\n",
    "\n",
    "mask_path = 'data/benign/mask/'\n",
    "mask_files = os.listdir(mask_path)\n",
    "mask_files = [mask_path+i for i in mask_files]"
   ]
  },
  {
   "cell_type": "code",
   "execution_count": 51,
   "metadata": {},
   "outputs": [
    {
     "data": {
      "text/plain": [
       "(                         img                    labels\n",
       " 0    data/benign/img/224.png  data/benign/mask/224.png\n",
       " 1    data/benign/img/280.png  data/benign/mask/280.png\n",
       " 2    data/benign/img/421.png  data/benign/mask/421.png\n",
       " 3    data/benign/img/130.png  data/benign/mask/130.png\n",
       " 4    data/benign/img/403.png  data/benign/mask/403.png\n",
       " ..                       ...                       ...\n",
       " 281   data/benign/img/58.png   data/benign/mask/58.png\n",
       " 282  data/benign/img/364.png  data/benign/mask/364.png\n",
       " 283   data/benign/img/31.png   data/benign/mask/31.png\n",
       " 284  data/benign/img/431.png  data/benign/mask/431.png\n",
       " 285  data/benign/img/166.png  data/benign/mask/166.png\n",
       " \n",
       " [286 rows x 2 columns],\n",
       "                          img                    labels\n",
       " 0    data/benign/img/153.png  data/benign/mask/153.png\n",
       " 1    data/benign/img/398.png  data/benign/mask/398.png\n",
       " 2     data/benign/img/38.png   data/benign/mask/38.png\n",
       " 3    data/benign/img/411.png  data/benign/mask/411.png\n",
       " 4    data/benign/img/179.png  data/benign/mask/179.png\n",
       " ..                       ...                       ...\n",
       " 137   data/benign/img/84.png   data/benign/mask/84.png\n",
       " 138  data/benign/img/144.png  data/benign/mask/144.png\n",
       " 139  data/benign/img/259.png  data/benign/mask/259.png\n",
       " 140  data/benign/img/111.png  data/benign/mask/111.png\n",
       " 141  data/benign/img/317.png  data/benign/mask/317.png\n",
       " \n",
       " [142 rows x 2 columns])"
      ]
     },
     "execution_count": 51,
     "metadata": {},
     "output_type": "execute_result"
    }
   ],
   "source": [
    "from sklearn.model_selection import train_test_split\n",
    "\n",
    "X_train, X_test, y_train, y_test = train_test_split(\n",
    "    img_files, mask_files,\n",
    "    test_size=.33,\n",
    "    random_state=42\n",
    ")\n",
    "\n",
    "train_df = pd.DataFrame({'img':X_train, 'labels':y_train})\n",
    "val_df = pd.DataFrame({'img':X_test, 'labels':y_test})\n",
    "train_df, val_df"
   ]
  },
  {
   "cell_type": "code",
   "execution_count": 52,
   "metadata": {},
   "outputs": [
    {
     "data": {
      "text/plain": [
       "(<__main__.CustomDataGenerator at 0x298317370>,\n",
       " <__main__.CustomDataGenerator at 0x298317a30>)"
      ]
     },
     "execution_count": 52,
     "metadata": {},
     "output_type": "execute_result"
    }
   ],
   "source": [
    "traingen = CustomDataGenerator(train_df, 'img', 'labels', BATCH_SIZE)\n",
    "valgen = CustomDataGenerator(val_df, 'img', 'labels', BATCH_SIZE)\n",
    "traingen, valgen"
   ]
  },
  {
   "cell_type": "code",
   "execution_count": 53,
   "metadata": {},
   "outputs": [],
   "source": [
    "# len(traingen.__getitem__(0)[0])\n",
    "len(traingen.__getitem__(0)[1])\n",
    "c = 0\n",
    "# for data in traingen:\n",
    "#     print(c, len(data))\n",
    "#     c += 1"
   ]
  },
  {
   "cell_type": "code",
   "execution_count": 54,
   "metadata": {},
   "outputs": [],
   "source": [
    "# traingen.__getitem__(11)[0][4][0][1]"
   ]
  },
  {
   "cell_type": "code",
   "execution_count": 99,
   "metadata": {},
   "outputs": [
    {
     "data": {
      "text/plain": [
       "<keras.engine.functional.Functional at 0x2fce38e50>"
      ]
     },
     "execution_count": 99,
     "metadata": {},
     "output_type": "execute_result"
    }
   ],
   "source": [
    "from unet import unet_arch\n",
    "\n",
    "model = unet_arch((448,448,3))\n",
    "model"
   ]
  },
  {
   "cell_type": "code",
   "execution_count": 100,
   "metadata": {},
   "outputs": [],
   "source": [
    "# model.summary()"
   ]
  },
  {
   "cell_type": "code",
   "execution_count": 101,
   "metadata": {},
   "outputs": [],
   "source": [
    "class DiceLoss(tf.keras.losses.Loss):\n",
    "    def __init__(self, smooth=1e-6, gama=2):\n",
    "        super(DiceLoss, self).__init__()\n",
    "        self.name = 'NDL'\n",
    "        self.smooth = smooth\n",
    "        self.gama = gama\n",
    "\n",
    "    def call(self, y_true, y_pred):\n",
    "        y_true, y_pred = tf.cast(\n",
    "            y_true, dtype=tf.float32), tf.cast(y_pred, tf.float32)\n",
    "        nominator = 2 * \\\n",
    "            tf.reduce_sum(tf.multiply(y_pred, y_true)) + self.smooth\n",
    "        denominator = tf.reduce_sum(\n",
    "            y_pred ** self.gama) + tf.reduce_sum(y_true ** self.gama) + self.smooth\n",
    "        result = 1 - tf.divide(nominator, denominator)\n",
    "        return result"
   ]
  },
  {
   "cell_type": "code",
   "execution_count": 102,
   "metadata": {},
   "outputs": [],
   "source": [
    "if os.path.exists('checkpoint/unet/'):\n",
    "    model.load_weights('checkpoint/unet/')\n",
    "\n",
    "opt = tf.keras.optimizers.Adam(\n",
    "    learning_rate=0.001,\n",
    "    epsilon=1e-07,\n",
    ")\n",
    "\n",
    "# loss = tf.keras.losses.BinaryCrossentropy()\n",
    "loss = DiceLoss()\n",
    "\n",
    "model.compile(\n",
    "    optimizer=opt,\n",
    "    loss=loss,\n",
    "    # metrics=['accuracy']\n",
    ")"
   ]
  },
  {
   "cell_type": "code",
   "execution_count": 103,
   "metadata": {},
   "outputs": [
    {
     "name": "stdout",
     "output_type": "stream",
     "text": [
      "Epoch 1/25\n",
      "17/17 [==============================] - ETA: 0s - loss: 0.7270\n",
      "Epoch 1: loss improved from inf to 0.72699, saving model to checkpoints/unet\n",
      "INFO:tensorflow:Assets written to: checkpoints/unet/assets\n",
      "17/17 [==============================] - 30s 2s/step - loss: 0.7270\n",
      "Epoch 2/25\n"
     ]
    }
   ],
   "source": [
    "EPOCHS = 25\n",
    "\n",
    "checkpoint = tf.keras.callbacks.ModelCheckpoint(\n",
    "    'checkpoints/unet',\n",
    "    verbose=1,\n",
    "    monitor='loss',\n",
    "    save_best_only=True\n",
    ")\n",
    "\n",
    "model.fit(\n",
    "    traingen,\n",
    "    epochs=EPOCHS,\n",
    "    verbose=1,\n",
    "    # validation_data=valgen,\n",
    "    callbacks=[checkpoint]\n",
    ")"
   ]
  },
  {
   "cell_type": "code",
   "execution_count": 85,
   "metadata": {},
   "outputs": [
    {
     "data": {
      "text/plain": [
       "<tensorflow.python.training.tracking.util.CheckpointLoadStatus at 0x3c85d4520>"
      ]
     },
     "execution_count": 85,
     "metadata": {},
     "output_type": "execute_result"
    }
   ],
   "source": [
    "model.load_weights('checkpoints/unet_best/')"
   ]
  },
  {
   "cell_type": "code",
   "execution_count": 92,
   "metadata": {},
   "outputs": [],
   "source": [
    "test = valgen.__getitem__(0)\n",
    "img = test[0][2]\n",
    "mask = test[1][2]"
   ]
  },
  {
   "cell_type": "code",
   "execution_count": 93,
   "metadata": {},
   "outputs": [
    {
     "data": {
      "text/plain": [
       "(TensorShape([448, 448, 3]), TensorShape([448, 448, 1]))"
      ]
     },
     "execution_count": 93,
     "metadata": {},
     "output_type": "execute_result"
    }
   ],
   "source": [
    "img.shape, mask.shape"
   ]
  },
  {
   "cell_type": "code",
   "execution_count": 94,
   "metadata": {},
   "outputs": [
    {
     "data": {
      "image/png": "[encoded data removed]",
      "text/plain": [
       "<Figure size 432x288 with 1 Axes>"
      ]
     },
     "metadata": {
      "needs_background": "light"
     },
     "output_type": "display_data"
    }
   ],
   "source": [
    "from matplotlib import pyplot as plt\n",
    "plt.imshow(img, interpolation='nearest')\n",
    "plt.show()"
   ]
  },
  {
   "cell_type": "code",
   "execution_count": 95,
   "metadata": {},
   "outputs": [
    {
     "data": {
      "image/png": "[encoded data removed]",
      "text/plain": [
       "<Figure size 432x288 with 1 Axes>"
      ]
     },
     "metadata": {
      "needs_background": "light"
     },
     "output_type": "display_data"
    }
   ],
   "source": [
    "plt.imshow(mask, cmap='gray')\n",
    "plt.show()"
   ]
  },
  {
   "cell_type": "code",
   "execution_count": 96,
   "metadata": {},
   "outputs": [
    {
     "data": {
      "text/plain": [
       "0.0"
      ]
     },
     "execution_count": 96,
     "metadata": {},
     "output_type": "execute_result"
    }
   ],
   "source": [
    "pred = model.predict(tf.convert_to_tensor([img]))\n",
    "pred = pred[0]\n",
    "\n",
    "def fn(x):\n",
    "    return 0. if x < 0.5 else 1.\n",
    "fn = np.vectorize(fn)\n",
    "pred = fn(pred)\n",
    "min(np.unique(pred))"
   ]
  },
  {
   "cell_type": "code",
   "execution_count": 97,
   "metadata": {},
   "outputs": [
    {
     "data": {
      "image/png": "[encoded data removed]",
      "text/plain": [
       "<Figure size 432x288 with 1 Axes>"
      ]
     },
     "metadata": {
      "needs_background": "light"
     },
     "output_type": "display_data"
    }
   ],
   "source": [
    "plt.imshow(pred, cmap='gray')\n",
    "plt.show()"
   ]
  },
  {
   "cell_type": "code",
   "execution_count": null,
   "metadata": {},
   "outputs": [],
   "source": []
  }
 ],
 "metadata": {
  "kernelspec": {
   "display_name": "Python 3.8.13 ('ml')",
   "language": "python",
   "name": "python3"
  },
  "language_info": {
   "codemirror_mode": {
    "name": "ipython",
    "version": 3
   },
   "file_extension": ".py",
   "mimetype": "text/x-python",
   "name": "python",
   "nbconvert_exporter": "python",
   "pygments_lexer": "ipython3",
   "version": "3.8.13"
  },
  "orig_nbformat": 4,
  "vscode": {
   "interpreter": {
    "hash": "9af30963835933b21408ee5eecfbf720fcadebfe3f3c64ab8e2d3dc6f0d4daa2"
   }
  }
 },
 "nbformat": 4,
 "nbformat_minor": 2
}
