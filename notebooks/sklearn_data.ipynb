{
 "cells": [
  {
   "cell_type": "markdown",
   "metadata": {},
   "source": [
    "# imports"
   ]
  },
  {
   "cell_type": "code",
   "execution_count": 1,
   "metadata": {},
   "outputs": [],
   "source": [
    "import pandas as pd\n",
    "import numpy as np\n",
    "import tensorflow as tf\n",
    "from PIL import Image\n",
    "import os\n",
    "import shutil\n",
    "import matplotlib.pyplot as plt"
   ]
  },
  {
   "cell_type": "markdown",
   "metadata": {},
   "source": [
    "# dataloader"
   ]
  },
  {
   "cell_type": "code",
   "execution_count": 2,
   "metadata": {},
   "outputs": [
    {
     "data": {
      "text/plain": [
       "(794106,)"
      ]
     },
     "execution_count": 2,
     "metadata": {},
     "output_type": "execute_result"
    }
   ],
   "source": [
    "im = Image.open('cnn_data/benign/1.png')\n",
    "# im.show()\n",
    "im = np.array(im)\n",
    "im = np.reshape(im, im.shape[0]*im.shape[1]*im.shape[2])\n",
    "image_size = im.size\n",
    "image_size\n",
    "im.shape"
   ]
  },
  {
   "cell_type": "code",
   "execution_count": 3,
   "metadata": {},
   "outputs": [],
   "source": [
    "data_path_img = 'cnn_data/'\n",
    "folders = os.listdir(data_path_img)\n",
    "\n",
    "shapes = set()\n",
    "for folder in folders:\n",
    "    for file in os.listdir(data_path_img+folder):\n",
    "        path = f\"{data_path_img}{folder}/{file}\"\n",
    "        # \n",
    "        im = Image.open(path)\n",
    "        im = np.array(im)\n",
    "\n",
    "        if (len(im.shape)==3 and im.shape[2]!=3) or (len(im.shape)==2):\n",
    "            print('delete:', path)\n",
    "            os.remove(path)\n",
    "\n",
    "\n",
    "# for file in os.listdir(data_path_img):\n",
    "#     im = Image.open(data_path_img+file)\n",
    "#     im = np.array(im)\n",
    "#     # print(f\"file: {len(im.shape)}\")\n",
    "#     if len(im.shape) == 3 and im.shape[2]==2:\n",
    "#         print(f\"delete: {file}\")\n",
    "#         # os.remove(data_path_img+file)\n",
    "#         # os.remove(data_path_mask+file)"
   ]
  },
  {
   "cell_type": "code",
   "execution_count": 4,
   "metadata": {},
   "outputs": [],
   "source": [
    "class_mapping = {\n",
    "    'benign': 0,\n",
    "    'malignant': 1,\n",
    "    'normal': 2,\n",
    "}\n",
    "data_path_img = 'cnn_data/'\n",
    "folders = os.listdir(data_path_img)\n",
    "\n",
    "paths, classes = [], []\n",
    "for folder in folders:\n",
    "    for file in os.listdir(data_path_img+folder):\n",
    "        path = f\"{data_path_img}{folder}/{file}\"\n",
    "        _class = class_mapping[folder]\n",
    "        paths.append(path)\n",
    "        classes.append(_class)\n",
    "# paths, classes"
   ]
  },
  {
   "cell_type": "code",
   "execution_count": 5,
   "metadata": {},
   "outputs": [],
   "source": [
    "from sklearn.model_selection import train_test_split\n",
    "\n",
    "X_train, X_test, y_train, y_test = train_test_split(\n",
    "    paths, classes,\n",
    "    test_size=.33,\n",
    "    random_state=42\n",
    ")"
   ]
  },
  {
   "cell_type": "code",
   "execution_count": 6,
   "metadata": {},
   "outputs": [],
   "source": [
    "train_df = pd.DataFrame({'path': X_train, 'class': y_train})\n",
    "val_df = pd.DataFrame({'path': X_test, 'class': y_test})\n",
    "# train_df, val_df"
   ]
  },
  {
   "cell_type": "code",
   "execution_count": 7,
   "metadata": {},
   "outputs": [
    {
     "data": {
      "text/html": [
       "<div>\n",
       "<style scoped>\n",
       "    .dataframe tbody tr th:only-of-type {\n",
       "        vertical-align: middle;\n",
       "    }\n",
       "\n",
       "    .dataframe tbody tr th {\n",
       "        vertical-align: top;\n",
       "    }\n",
       "\n",
       "    .dataframe thead th {\n",
       "        text-align: right;\n",
       "    }\n",
       "</style>\n",
       "<table border=\"1\" class=\"dataframe\">\n",
       "  <thead>\n",
       "    <tr style=\"text-align: right;\">\n",
       "      <th></th>\n",
       "      <th>path</th>\n",
       "      <th>class</th>\n",
       "    </tr>\n",
       "  </thead>\n",
       "  <tbody>\n",
       "    <tr>\n",
       "      <th>0</th>\n",
       "      <td>cnn_data/normal/57.png</td>\n",
       "      <td>2</td>\n",
       "    </tr>\n",
       "    <tr>\n",
       "      <th>1</th>\n",
       "      <td>cnn_data/benign/295.png</td>\n",
       "      <td>0</td>\n",
       "    </tr>\n",
       "    <tr>\n",
       "      <th>2</th>\n",
       "      <td>cnn_data/malignant/57.png</td>\n",
       "      <td>1</td>\n",
       "    </tr>\n",
       "    <tr>\n",
       "      <th>3</th>\n",
       "      <td>cnn_data/malignant/90.png</td>\n",
       "      <td>1</td>\n",
       "    </tr>\n",
       "    <tr>\n",
       "      <th>4</th>\n",
       "      <td>cnn_data/malignant/77.png</td>\n",
       "      <td>1</td>\n",
       "    </tr>\n",
       "    <tr>\n",
       "      <th>...</th>\n",
       "      <td>...</td>\n",
       "      <td>...</td>\n",
       "    </tr>\n",
       "    <tr>\n",
       "      <th>511</th>\n",
       "      <td>cnn_data/benign/368.png</td>\n",
       "      <td>0</td>\n",
       "    </tr>\n",
       "    <tr>\n",
       "      <th>512</th>\n",
       "      <td>cnn_data/malignant/175.png</td>\n",
       "      <td>1</td>\n",
       "    </tr>\n",
       "    <tr>\n",
       "      <th>513</th>\n",
       "      <td>cnn_data/benign/379.png</td>\n",
       "      <td>0</td>\n",
       "    </tr>\n",
       "    <tr>\n",
       "      <th>514</th>\n",
       "      <td>cnn_data/normal/56.png</td>\n",
       "      <td>2</td>\n",
       "    </tr>\n",
       "    <tr>\n",
       "      <th>515</th>\n",
       "      <td>cnn_data/benign/298.png</td>\n",
       "      <td>0</td>\n",
       "    </tr>\n",
       "  </tbody>\n",
       "</table>\n",
       "<p>516 rows × 2 columns</p>\n",
       "</div>"
      ],
      "text/plain": [
       "                           path  class\n",
       "0        cnn_data/normal/57.png      2\n",
       "1       cnn_data/benign/295.png      0\n",
       "2     cnn_data/malignant/57.png      1\n",
       "3     cnn_data/malignant/90.png      1\n",
       "4     cnn_data/malignant/77.png      1\n",
       "..                          ...    ...\n",
       "511     cnn_data/benign/368.png      0\n",
       "512  cnn_data/malignant/175.png      1\n",
       "513     cnn_data/benign/379.png      0\n",
       "514      cnn_data/normal/56.png      2\n",
       "515     cnn_data/benign/298.png      0\n",
       "\n",
       "[516 rows x 2 columns]"
      ]
     },
     "execution_count": 7,
     "metadata": {},
     "output_type": "execute_result"
    }
   ],
   "source": [
    "train_df.sample(frac=1).reset_index(drop=True)"
   ]
  },
  {
   "cell_type": "markdown",
   "metadata": {},
   "source": [
    "# DataGenerator"
   ]
  },
  {
   "cell_type": "code",
   "execution_count": 8,
   "metadata": {},
   "outputs": [],
   "source": [
    "class CustomDataGenerator(tf.keras.utils.Sequence):\n",
    "    \n",
    "    def __init__(self, df, X_col, y_col, batch_size=16, shuffle=True):\n",
    "        self.df = df.copy()\n",
    "        self.df = self.df.sample(frac=1).reset_index(drop=True)\n",
    "\n",
    "        self.X_col = X_col\n",
    "        self.y_col = y_col\n",
    "        self.batch_size = batch_size\n",
    "        self.shuffle = shuffle\n",
    "        self.n = len(self.df)\n",
    "\n",
    "\n",
    "    def on_epoch_end(self):\n",
    "        if self.shuffle:\n",
    "            self.df = self.df.sample(frac=1).reset_index(drop=True)\n",
    "    \n",
    "\n",
    "    def __get_input(self, paths):\n",
    "        out = []\n",
    "\n",
    "        for path in paths:\n",
    "            im = Image.open(path)\n",
    "            im = im.crop((57,0,505,448))\n",
    "            im = np.array(im)/255.\n",
    "            im = np.reshape(im, im.shape[0]*im.shape[1]*im.shape[2])\n",
    "\n",
    "            out.append(im)\n",
    "\n",
    "        return out\n",
    "\n",
    "\n",
    "    def __get_output(self, labels):\n",
    "        out = []\n",
    "\n",
    "        for label in labels:\n",
    "            out.append(label)\n",
    "\n",
    "        return out\n",
    "\n",
    "\n",
    "    def __get_data(self, batches):\n",
    "        paths = batches[self.X_col]\n",
    "        X = self.__get_input(paths)\n",
    "        labels = batches[self.y_col]\n",
    "        y = self.__get_output(labels)\n",
    "\n",
    "        X = np.array(X)\n",
    "        y = np.array(y)\n",
    "        X = tf.convert_to_tensor(X, dtype=tf.float32)\n",
    "        y = tf.convert_to_tensor(y, dtype=tf.int32)\n",
    "        return X,y\n",
    "\n",
    "\n",
    "    def __getitem__(self, index):\n",
    "        batches = self.df.iloc[index*self.batch_size:(index+1)*self.batch_size]\n",
    "        X,y = self.__get_data(batches)\n",
    "        return X,y\n",
    "\n",
    "\n",
    "    def get_all_data(self):\n",
    "        paths = self.df[self.X_col]\n",
    "        labels = self.df[self.y_col]\n",
    "\n",
    "        outX = []\n",
    "\n",
    "        for path in paths:\n",
    "            im = Image.open(path)\n",
    "            im = im.crop((57,0,505,448))\n",
    "            im = np.array(im)/255.\n",
    "            im = np.reshape(im, im.shape[0]*im.shape[1]*im.shape[2])\n",
    "\n",
    "            outX.append(im)\n",
    "\n",
    "        outy = []\n",
    "\n",
    "        for label in labels:\n",
    "            outy.append(label)\n",
    "\n",
    "        return outX, outy\n",
    "\n",
    "\n",
    "    def __len__(self):\n",
    "        return self.n // self.batch_size\n"
   ]
  },
  {
   "cell_type": "code",
   "execution_count": 9,
   "metadata": {},
   "outputs": [
    {
     "data": {
      "text/plain": [
       "(<__main__.CustomDataGenerator at 0x16c39eaf0>,\n",
       " <__main__.CustomDataGenerator at 0x16c39e100>)"
      ]
     },
     "execution_count": 9,
     "metadata": {},
     "output_type": "execute_result"
    }
   ],
   "source": [
    "data_dir = 'cnn_data/'\n",
    "BATCH_SIZE=16\n",
    "\n",
    "traingen = CustomDataGenerator(train_df, 'path', 'class', BATCH_SIZE)\n",
    "valgen = CustomDataGenerator(val_df, 'path', 'class', BATCH_SIZE)\n",
    "traingen, valgen"
   ]
  },
  {
   "cell_type": "code",
   "execution_count": 10,
   "metadata": {},
   "outputs": [],
   "source": [
    "img = np.array(traingen.__getitem__(0)[0][0]*255, dtype=int)\n",
    "label = np.array(traingen.__getitem__(0)[1][0])"
   ]
  },
  {
   "cell_type": "code",
   "execution_count": 11,
   "metadata": {},
   "outputs": [
    {
     "data": {
      "text/plain": [
       "(602112,)"
      ]
     },
     "execution_count": 11,
     "metadata": {},
     "output_type": "execute_result"
    }
   ],
   "source": [
    "img.shape"
   ]
  },
  {
   "cell_type": "code",
   "execution_count": 12,
   "metadata": {},
   "outputs": [
    {
     "data": {
      "text/plain": [
       "array(0, dtype=int32)"
      ]
     },
     "execution_count": 12,
     "metadata": {},
     "output_type": "execute_result"
    }
   ],
   "source": [
    "label"
   ]
  },
  {
   "cell_type": "markdown",
   "metadata": {},
   "source": [
    "# SVM"
   ]
  },
  {
   "cell_type": "code",
   "execution_count": 13,
   "metadata": {},
   "outputs": [
    {
     "ename": "NameError",
     "evalue": "name 'model' is not defined",
     "output_type": "error",
     "traceback": [
      "\u001b[0;31m---------------------------------------------------------------------------\u001b[0m",
      "\u001b[0;31mNameError\u001b[0m                                 Traceback (most recent call last)",
      "\u001b[1;32m/Users/rayaq/Desktop/projects/mini_projects_2/breast_semantic_segmentation/sklearn_data.ipynb Cell 17\u001b[0m in \u001b[0;36m<cell line: 10>\u001b[0;34m()\u001b[0m\n\u001b[1;32m      <a href='vscode-notebook-cell:/Users/rayaq/Desktop/projects/mini_projects_2/breast_semantic_segmentation/sklearn_data.ipynb#X23sZmlsZQ%3D%3D?line=7'>8</a>\u001b[0m svm \u001b[39m=\u001b[39m svm\u001b[39m.\u001b[39mSVC(probability\u001b[39m=\u001b[39m\u001b[39mTrue\u001b[39;00m, kernel\u001b[39m=\u001b[39m\u001b[39m'\u001b[39m\u001b[39mpoly\u001b[39m\u001b[39m'\u001b[39m)\n\u001b[1;32m      <a href='vscode-notebook-cell:/Users/rayaq/Desktop/projects/mini_projects_2/breast_semantic_segmentation/sklearn_data.ipynb#X23sZmlsZQ%3D%3D?line=8'>9</a>\u001b[0m \u001b[39m# model = GridSearchCV(svc, param_grid)\u001b[39;00m\n\u001b[0;32m---> <a href='vscode-notebook-cell:/Users/rayaq/Desktop/projects/mini_projects_2/breast_semantic_segmentation/sklearn_data.ipynb#X23sZmlsZQ%3D%3D?line=9'>10</a>\u001b[0m model\n",
      "\u001b[0;31mNameError\u001b[0m: name 'model' is not defined"
     ]
    }
   ],
   "source": [
    "from sklearn import svm\n",
    "from sklearn.model_selection import GridSearchCV\n",
    "\n",
    "# param_grid={\n",
    "#     'kernel':['rbf','poly']\n",
    "# }\n",
    "\n",
    "svm = svm.SVC(probability=True, kernel='poly')\n",
    "# model = GridSearchCV(svc, param_grid)\n",
    "model"
   ]
  },
  {
   "cell_type": "code",
   "execution_count": null,
   "metadata": {},
   "outputs": [],
   "source": [
    "train_X, train_y = traingen.get_all_data()"
   ]
  },
  {
   "cell_type": "code",
   "execution_count": null,
   "metadata": {},
   "outputs": [
    {
     "data": {
      "text/plain": [
       "GridSearchCV(estimator=SVC(probability=True),\n",
       "             param_grid={'kernel': ['rbf', 'poly']})"
      ]
     },
     "execution_count": 15,
     "metadata": {},
     "output_type": "execute_result"
    }
   ],
   "source": [
    "svm.fit(train_X, train_y)"
   ]
  },
  {
   "cell_type": "code",
   "execution_count": null,
   "metadata": {},
   "outputs": [
    {
     "data": {
      "text/plain": [
       "{'kernel': 'poly'}"
      ]
     },
     "execution_count": 16,
     "metadata": {},
     "output_type": "execute_result"
    }
   ],
   "source": [
    "# model.best_params_\n",
    "# {'kernel': 'poly'}"
   ]
  },
  {
   "cell_type": "code",
   "execution_count": null,
   "metadata": {},
   "outputs": [],
   "source": [
    "del train_X\n",
    "del train_y"
   ]
  },
  {
   "cell_type": "code",
   "execution_count": null,
   "metadata": {},
   "outputs": [],
   "source": [
    "val_X, val_y = valgen.get_all_data()"
   ]
  },
  {
   "cell_type": "code",
   "execution_count": null,
   "metadata": {},
   "outputs": [
    {
     "data": {
      "text/plain": [
       "0.6588235294117647"
      ]
     },
     "execution_count": 20,
     "metadata": {},
     "output_type": "execute_result"
    }
   ],
   "source": [
    "from sklearn.metrics import f1_score\n",
    "\n",
    "pred = svm.predict(val_X)\n",
    "acc = val_y\n",
    "\n",
    "f1_score(acc, pred, average='micro')"
   ]
  },
  {
   "cell_type": "code",
   "execution_count": null,
   "metadata": {},
   "outputs": [],
   "source": [
    "del val_X\n",
    "del val_y"
   ]
  },
  {
   "cell_type": "markdown",
   "metadata": {},
   "source": [
    "# Random Forest"
   ]
  },
  {
   "cell_type": "code",
   "execution_count": null,
   "metadata": {},
   "outputs": [
    {
     "data": {
      "text/plain": [
       "GridSearchCV(estimator=RandomForestClassifier(),\n",
       "             param_grid={'n_estimators': [50, 100, 150, 200]})"
      ]
     },
     "execution_count": 39,
     "metadata": {},
     "output_type": "execute_result"
    }
   ],
   "source": [
    "from sklearn.ensemble import RandomForestClassifier\n",
    "from sklearn.model_selection import GridSearchCV\n",
    "\n",
    "param_grid={\n",
    "    'n_estimators':[50, 100, 150, 200],\n",
    "}\n",
    "\n",
    "rf = RandomForestClassifier(n_estimators=200)\n",
    "# model = GridSearchCV(rf, param_grid)\n",
    "rf"
   ]
  },
  {
   "cell_type": "code",
   "execution_count": null,
   "metadata": {},
   "outputs": [],
   "source": [
    "train_X, train_y = traingen.get_all_data()"
   ]
  },
  {
   "cell_type": "code",
   "execution_count": null,
   "metadata": {},
   "outputs": [
    {
     "data": {
      "text/plain": [
       "GridSearchCV(estimator=RandomForestClassifier(),\n",
       "             param_grid={'n_estimators': [50, 100, 150, 200]})"
      ]
     },
     "execution_count": 41,
     "metadata": {},
     "output_type": "execute_result"
    }
   ],
   "source": [
    "rf.fit(train_X, train_y)"
   ]
  },
  {
   "cell_type": "code",
   "execution_count": null,
   "metadata": {},
   "outputs": [
    {
     "data": {
      "text/plain": [
       "{'n_estimators': 200}"
      ]
     },
     "execution_count": 42,
     "metadata": {},
     "output_type": "execute_result"
    }
   ],
   "source": [
    "# model.best_params_\n",
    "# {'n_estimators': 200}"
   ]
  },
  {
   "cell_type": "code",
   "execution_count": null,
   "metadata": {},
   "outputs": [],
   "source": [
    "del train_X\n",
    "del train_y"
   ]
  },
  {
   "cell_type": "code",
   "execution_count": null,
   "metadata": {},
   "outputs": [],
   "source": [
    "val_X, val_y = valgen.get_all_data()"
   ]
  },
  {
   "cell_type": "code",
   "execution_count": null,
   "metadata": {},
   "outputs": [
    {
     "data": {
      "text/plain": [
       "0.6470588235294118"
      ]
     },
     "execution_count": 45,
     "metadata": {},
     "output_type": "execute_result"
    }
   ],
   "source": [
    "from sklearn.metrics import f1_score\n",
    "\n",
    "pred = rf.predict(val_X)\n",
    "acc = val_y\n",
    "\n",
    "f1_score(acc, pred, average='micro')"
   ]
  },
  {
   "cell_type": "code",
   "execution_count": null,
   "metadata": {},
   "outputs": [],
   "source": [
    "del val_X\n",
    "del val_y"
   ]
  },
  {
   "cell_type": "markdown",
   "metadata": {},
   "source": [
    "# another model"
   ]
  },
  {
   "cell_type": "code",
   "execution_count": null,
   "metadata": {},
   "outputs": [
    {
     "data": {
      "text/plain": [
       "GridSearchCV(estimator=KNeighborsClassifier(),\n",
       "             param_grid={'n_neighbors': [5, 10, 15]})"
      ]
     },
     "execution_count": 47,
     "metadata": {},
     "output_type": "execute_result"
    }
   ],
   "source": [
    "from sklearn.neighbors import KNeighborsClassifier\n",
    "from sklearn.model_selection import GridSearchCV\n",
    "\n",
    "param_grid={\n",
    "    'n_neighbors':[5, 10, 15],\n",
    "}\n",
    "\n",
    "knn = KNeighborsClassifier(n_neighbors=5)\n",
    "# model = GridSearchCV(knn, param_grid)\n",
    "knn"
   ]
  },
  {
   "cell_type": "code",
   "execution_count": null,
   "metadata": {},
   "outputs": [],
   "source": [
    "train_X, train_y = traingen.get_all_data()"
   ]
  },
  {
   "cell_type": "code",
   "execution_count": null,
   "metadata": {},
   "outputs": [
    {
     "data": {
      "text/plain": [
       "GridSearchCV(estimator=KNeighborsClassifier(),\n",
       "             param_grid={'n_neighbors': [5, 10, 15]})"
      ]
     },
     "execution_count": 49,
     "metadata": {},
     "output_type": "execute_result"
    }
   ],
   "source": [
    "knn.fit(train_X, train_y)"
   ]
  },
  {
   "cell_type": "code",
   "execution_count": null,
   "metadata": {},
   "outputs": [
    {
     "data": {
      "text/plain": [
       "{'n_neighbors': 5}"
      ]
     },
     "execution_count": 50,
     "metadata": {},
     "output_type": "execute_result"
    }
   ],
   "source": [
    "# model.best_params_\n",
    "# {'n_neighbors': 5}"
   ]
  },
  {
   "cell_type": "code",
   "execution_count": null,
   "metadata": {},
   "outputs": [],
   "source": [
    "del train_X\n",
    "del train_y"
   ]
  },
  {
   "cell_type": "code",
   "execution_count": null,
   "metadata": {},
   "outputs": [],
   "source": [
    "val_X, val_y = valgen.get_all_data()"
   ]
  },
  {
   "cell_type": "code",
   "execution_count": null,
   "metadata": {},
   "outputs": [
    {
     "data": {
      "text/plain": [
       "0.5686274509803921"
      ]
     },
     "execution_count": 53,
     "metadata": {},
     "output_type": "execute_result"
    }
   ],
   "source": [
    "from sklearn.metrics import f1_score\n",
    "\n",
    "pred = knn.predict(val_X)\n",
    "acc = val_y\n",
    "\n",
    "f1_score(acc, pred, average='micro')"
   ]
  },
  {
   "cell_type": "code",
   "execution_count": null,
   "metadata": {},
   "outputs": [],
   "source": [
    "del val_X\n",
    "del val_y"
   ]
  },
  {
   "cell_type": "markdown",
   "metadata": {},
   "source": [
    "# another"
   ]
  },
  {
   "cell_type": "code",
   "execution_count": null,
   "metadata": {},
   "outputs": [],
   "source": []
  }
 ],
 "metadata": {
  "kernelspec": {
   "display_name": "Python 3.8.13 ('ml')",
   "language": "python",
   "name": "python3"
  },
  "language_info": {
   "codemirror_mode": {
    "name": "ipython",
    "version": 3
   },
   "file_extension": ".py",
   "mimetype": "text/x-python",
   "name": "python",
   "nbconvert_exporter": "python",
   "pygments_lexer": "ipython3",
   "version": "3.8.13"
  },
  "orig_nbformat": 4,
  "vscode": {
   "interpreter": {
    "hash": "9af30963835933b21408ee5eecfbf720fcadebfe3f3c64ab8e2d3dc6f0d4daa2"
   }
  }
 },
 "nbformat": 4,
 "nbformat_minor": 2
}
